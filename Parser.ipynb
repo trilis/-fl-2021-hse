{
 "cells": [
  {
   "cell_type": "markdown",
   "metadata": {},
   "source": [
    "## Медленная реализация"
   ]
  },
  {
   "cell_type": "code",
   "execution_count": 1,
   "metadata": {},
   "outputs": [],
   "source": [
    "# типы \n",
    "class empty:\n",
    "    pass\n",
    "\n",
    "\n",
    "class epsilon:\n",
    "    pass\n",
    "\n",
    "\n",
    "class char:\n",
    "    def __init__(self, data):\n",
    "        self.b = data\n",
    "\n",
    "\n",
    "class star:\n",
    "    def __init__(self, data):\n",
    "        self.s = data\n",
    "\n",
    "\n",
    "class alt:\n",
    "    def __init__(self, data1, data2):\n",
    "        self.s = data1\n",
    "        self.t = data2\n",
    "\n",
    "\n",
    "class concat:\n",
    "    def __init__(self, data1, data2):\n",
    "        self.s = data1\n",
    "        self.t = data2"
   ]
  },
  {
   "cell_type": "code",
   "execution_count": 2,
   "metadata": {},
   "outputs": [],
   "source": [
    "# match :: Regexp -> String -> Bool\n",
    "def match(regexp, string):\n",
    "    return isinstance(nullable(derivative_(string, regexp)), epsilon)"
   ]
  },
  {
   "cell_type": "code",
   "execution_count": 3,
   "metadata": {},
   "outputs": [],
   "source": [
    "# derivative :: Char -> Regexp -> Regexp\n",
    "def derivative(a, regexp):\n",
    "    \n",
    "    # derivative a Empty = Empty \n",
    "    if isinstance(regexp, empty) : return empty()\n",
    "    \n",
    "    # derivative a Epsilon = Empty\n",
    "    if isinstance(regexp, epsilon) : return empty()\n",
    "    \n",
    "    # derivative a (Char b) | a == b = Epsilon \n",
    "    # derivative a (Char b) = Empty\n",
    "    if isinstance(regexp, char): return epsilon() if a == regexp.b else empty()\n",
    "    \n",
    "    # derivative a (Alt s t) = Alt (derivative a s) (derivative a t)\n",
    "    if isinstance(regexp, alt): return alt(derivative(a, regexp.s), derivative(a, regexp.t))\n",
    "    \n",
    "    #derivative a (Star s) = Concat (derivative a s) (Star s) \n",
    "    if isinstance(regexp, star): return concat(derivative(a, regexp.s), star(regexp.s))\n",
    "    \n",
    "    #derivative a (Concat s t) = Alt (Concat (derivative a s) t) (Concat (nullable s) (derivative a t))\n",
    "    if isinstance(regexp, concat): return alt(concat(derivative(a, regexp.s), regexp.t), \n",
    "                                              concat(nullable(regexp.s), derivative(a, regexp.t)))"
   ]
  },
  {
   "cell_type": "code",
   "execution_count": 4,
   "metadata": {},
   "outputs": [],
   "source": [
    "# intersect :: Regexp -> Regexp -> Regexp\n",
    "def intersect(regexp1, regexp2):\n",
    "    \n",
    "    # intersect Empty _ = Empty \n",
    "    # intersect _ Empty = Empty\n",
    "    if isinstance(regexp2, empty) or isinstance(regexp1, empty): return empty()\n",
    "    \n",
    "    # intersect Epsilon Epsilon = Epsilon\n",
    "    if isinstance(regexp2, epsilon) and isinstance(regexp1, epsilon): return epsilon()\n",
    "    "
   ]
  },
  {
   "cell_type": "code",
   "execution_count": 5,
   "metadata": {},
   "outputs": [],
   "source": [
    "# union :: Regexp -> Regexp -> Regexp\n",
    "def union(regexp1, regexp2):\n",
    "    \n",
    "    # union Epsilon _ = Epsilon \n",
    "    # union _ Epsilon = Epsilon  \n",
    "    if isinstance(regexp2, epsilon) or isinstance(regexp1, epsilon): return epsilon()\n",
    "    \n",
    "    # union Empty Empty = Empty\n",
    "    if isinstance(regexp2, empty) and isinstance(regexp1, empty): return empty()\n"
   ]
  },
  {
   "cell_type": "code",
   "execution_count": 6,
   "metadata": {},
   "outputs": [],
   "source": [
    "# nullable :: Regexp -> Regexp\n",
    "def nullable(regexp):\n",
    "    \n",
    "    # nullable Empty = Empty\n",
    "    if isinstance(regexp, empty): return empty()\n",
    "    \n",
    "    # nullable Epsilon = Epsilon\n",
    "    if isinstance(regexp, epsilon): return epsilon()\n",
    "    \n",
    "    # nullable (Char a) = Empty\n",
    "    if isinstance(regexp, char): return empty()\n",
    "    \n",
    "    # nullable (Concat s t) = intersect (nullable s) (nullable t)\n",
    "    if isinstance(regexp, concat): return intersect(nullable(regexp.s), nullable(regexp.t))\n",
    "    \n",
    "    # nullable (Alt s t) = union (nullable s) (nullable t)\n",
    "    if isinstance(regexp, alt): return union(nullable(regexp.s), nullable(regexp.t))\n",
    "    \n",
    "    # nullable (Star s) = Epsilon\n",
    "    if isinstance(regexp, star): return epsilon()"
   ]
  },
  {
   "cell_type": "code",
   "execution_count": 7,
   "metadata": {},
   "outputs": [],
   "source": [
    "# derivative' :: String -> Regexp -> Regexp\n",
    "def derivative_(string, regexp):\n",
    "    if string:\n",
    "        return derivative_(string[1:], derivative(string[0], regexp)) \n",
    "    return regexp"
   ]
  },
  {
   "cell_type": "markdown",
   "metadata": {},
   "source": [
    "## Тесты"
   ]
  },
  {
   "cell_type": "code",
   "execution_count": 8,
   "metadata": {},
   "outputs": [
    {
     "name": "stdout",
     "output_type": "stream",
     "text": [
      "Регулярное выражение: \"(a*)b\"\n",
      "Match со строкой \"aaab\": True\n",
      "Match со строкой \"aba\": False\n",
      "Match со строкой \"ba\": False\n",
      "\n",
      "Регулярное выражение: \"(ab|a)\"\n",
      "Match со строкой \"a\": True\n",
      "Match со строкой \"ab\": True\n",
      "Match со строкой \"aba\": False\n",
      "\n",
      "Регулярное выражение: \"aba*\"\n",
      "Match со строкой \"abaaa\": True\n",
      "Match со строкой \"ab\": True\n",
      "Match со строкой \"aabba\": False\n",
      "\n",
      "Регулярное выражение: \"aba(b|aa)\"\n",
      "Match со строкой \"abab\": True\n",
      "Match со строкой \"abaaa\": True\n",
      "Match со строкой \"aba\": False\n",
      "\n",
      "Регулярное выражение: \"((a|b)(aa|bb))\"\n",
      "Match со строкой \"abb\": True\n",
      "Match со строкой \"baa\": True\n",
      "Match со строкой \"ab\": False\n",
      "Match со строкой \"bb\": False\n",
      "\n"
     ]
    }
   ],
   "source": [
    "# (a*)b\n",
    "regexp_1 = concat(star(char('a')), char('b'))\n",
    "\n",
    "# (ab|a)\n",
    "regexp_2 = alt(concat(char('a'), char('b')), char('a'))\n",
    "\n",
    "# aba*\n",
    "regexp_3 = concat(char('a'), concat(char('b'), star(char('a'))))\n",
    "\n",
    "# aba(b|aa)\n",
    "regexp_4 = concat(char('a'), concat(char('b'), concat(char('a'), alt(char('b'), concat(char('a'), char('a'))))))\n",
    "\n",
    "# ((a|b)(aa|bb))\n",
    "regexp_5 = concat(alt(char('a'), char('b')), alt(concat(char('a'), char('a')), concat(char('b'), char('b'))))\n",
    "\n",
    "\n",
    "print('Регулярное выражение: \"(a*)b\"')\n",
    "print('Match со строкой \"aaab\":', match(regexp_1, \"aaab\"))\n",
    "print('Match со строкой \"aba\":', match(regexp_1, \"aba\"))\n",
    "print('Match со строкой \"ba\":', match(regexp_1, \"aba\"))\n",
    "print()\n",
    "\n",
    "print('Регулярное выражение: \"(ab|a)\"')\n",
    "print('Match со строкой \"a\":', match(regexp_2, \"a\"))\n",
    "print('Match со строкой \"ab\":', match(regexp_2, \"ab\"))\n",
    "print('Match со строкой \"aba\":', match(regexp_2, \"aba\"))\n",
    "print()\n",
    "\n",
    "print('Регулярное выражение: \"aba*\"')\n",
    "print('Match со строкой \"abaaa\":', match(regexp_3, \"abaaa\"))\n",
    "print('Match со строкой \"ab\":', match(regexp_3, \"ab\"))\n",
    "print('Match со строкой \"aabba\":', match(regexp_3, \"aabba\"))\n",
    "print()\n",
    "\n",
    "print('Регулярное выражение: \"aba(b|aa)\"')\n",
    "print('Match со строкой \"abab\":', match(regexp_4, \"abab\"))\n",
    "print('Match со строкой \"abaaa\":', match(regexp_4, \"abaaa\"))\n",
    "print('Match со строкой \"aba\":', match(regexp_4, \"aba\"))\n",
    "print()\n",
    "\n",
    "print('Регулярное выражение: \"((a|b)(aa|bb))\"')\n",
    "print('Match со строкой \"abb\":', match(regexp_5, \"abb\"))\n",
    "print('Match со строкой \"baa\":', match(regexp_5, \"baa\"))\n",
    "print('Match со строкой \"ab\":', match(regexp_5, \"ab\"))\n",
    "print('Match со строкой \"bb\":', match(regexp_5, \"bb\"))\n",
    "print()\n"
   ]
  },
  {
   "cell_type": "markdown",
   "metadata": {},
   "source": [
    "### Время выполнения"
   ]
  },
  {
   "cell_type": "code",
   "execution_count": 9,
   "metadata": {},
   "outputs": [
    {
     "name": "stdout",
     "output_type": "stream",
     "text": [
      "Выражение: ab, длина: 2, время: 0.0001 секунд\n",
      "Выражение: aabb, длина: 4, время: 0.0007 секунд\n",
      "Выражение: aaabbb, длина: 6, время: 0.0063 секунд\n",
      "Выражение: aaaabbbb, длина: 8, время: 0.0822 секунд\n",
      "Выражение: aaaaabbbbb, длина: 10, время: 0.9310 секунд\n",
      "Выражение: aaaaaabbbbbb, длина: 12, время: 9.6287 секунд\n"
     ]
    }
   ],
   "source": [
    "import time\n",
    "\n",
    "\n",
    "time_1 = []\n",
    "for i in range(1, 7):\n",
    "    exp = 'a'*i + 'b'*i\n",
    "    s = time.time()\n",
    "    match(regexp_5, exp)\n",
    "    t = time.time()\n",
    "    time_1.append(t-s)\n",
    "    print('Выражение: {0}, длина: {1}, время: {2:.4f} секунд'.format(exp, i*2, (t-s)))"
   ]
  },
  {
   "cell_type": "markdown",
   "metadata": {},
   "source": [
    "## Быстрая реализация"
   ]
  },
  {
   "cell_type": "code",
   "execution_count": 10,
   "metadata": {},
   "outputs": [],
   "source": [
    "def nullable(regexp):\n",
    "    \n",
    "    # nullable Empty = Empty\n",
    "    if isinstance(regexp, empty): return False\n",
    "    \n",
    "    # nullable Epsilon = Epsilon\n",
    "    if isinstance(regexp, epsilon): return True\n",
    "    \n",
    "    # nullable (Char a) = Empty\n",
    "    if isinstance(regexp, char): return False\n",
    "    \n",
    "    # nullable (Concat s t) = intersect (nullable s) (nullable t)\n",
    "    if isinstance(regexp, concat): return nullable(regexp.s) and nullable(regexp.t)\n",
    "    \n",
    "    # nullable (Alt s t) = union (nullable s) (nullable t)\n",
    "    if isinstance(regexp, alt): return nullable(regexp.s) or nullable(regexp.t)\n",
    "    \n",
    "    # nullable (Star s) = Epsilon\n",
    "    if isinstance(regexp, star): return True"
   ]
  },
  {
   "cell_type": "code",
   "execution_count": 11,
   "metadata": {},
   "outputs": [],
   "source": [
    "def derivative(a, regexp):\n",
    "    # derivative a Empty = Empty \n",
    "    if isinstance(regexp, empty) : return empty()\n",
    "    \n",
    "    # derivative a Epsilon = Empty\n",
    "    if isinstance(regexp, epsilon) : return empty()\n",
    "    \n",
    "    # derivative a (Char b) | a == b = Epsilon \n",
    "    # derivative a (Char b) = Empty\n",
    "    if isinstance(regexp, char): return epsilon() if a == regexp.b else empty()\n",
    "    \n",
    "    # derivative a (Alt s t) = Alt (derivative a s) (derivative a t)\n",
    "    if isinstance(regexp, alt): return alt(derivative(a, regexp.s), derivative(a, regexp.t))\n",
    "    \n",
    "    #derivative a (Star s) = Concat (derivative a s) (Star s) \n",
    "    if isinstance(regexp, star): return concat(derivative(a, regexp.s), star(regexp.s))\n",
    "    \n",
    "    #derivative a (Concat s t) = Alt (Concat (derivative a s) t) (Concat (nullable s) (derivative a t))\n",
    "    if isinstance(regexp, concat):\n",
    "        if nullable(regexp.s):\n",
    "            return alt(concat(derivative(a, regexp.s), regexp.t), derivative(a, regexp.t))\n",
    "        else: return concat(derivative(a, regexp.s), regexp.t)"
   ]
  },
  {
   "cell_type": "code",
   "execution_count": 12,
   "metadata": {},
   "outputs": [],
   "source": [
    "# derivative' :: String -> Regexp -> Regexp\n",
    "def derivative_(string, regexp):\n",
    "    if string:\n",
    "        return derivative_(string[1:], derivative(string[0], regexp)) \n",
    "    return regexp"
   ]
  },
  {
   "cell_type": "code",
   "execution_count": 13,
   "metadata": {},
   "outputs": [],
   "source": [
    "# match :: Regexp -> String -> Bool\n",
    "def match(regexp, string):\n",
    "    return nullable(derivative_(string, regexp))"
   ]
  },
  {
   "cell_type": "code",
   "execution_count": 14,
   "metadata": {},
   "outputs": [],
   "source": [
    "# intersect :: Regexp -> Regexp -> Regexp\n",
    "def intersect(regexp1, regexp2):\n",
    "    \n",
    "    # intersect Empty _ = Empty \n",
    "    # intersect _ Empty = Empty\n",
    "    if isinstance(regexp2, empty) or isinstance(regexp1, empty): return empty()\n",
    "    \n",
    "    # intersect Epsilon Epsilon = Epsilon\n",
    "    if isinstance(regexp2, epsilon) and isinstance(regexp1, epsilon): return epsilon()"
   ]
  },
  {
   "cell_type": "code",
   "execution_count": 15,
   "metadata": {},
   "outputs": [],
   "source": [
    "# union :: Regexp -> Regexp -> Regexp\n",
    "def union(regexp1, regexp2):\n",
    "    \n",
    "    # union Epsilon _ = Epsilon \n",
    "    # union _ Epsilon = Epsilon  \n",
    "    if isinstance(regexp2, epsilon) or isinstance(regexp1, epsilon): return epsilon()\n",
    "    \n",
    "    # union Empty Empty = Empty\n",
    "    if isinstance(regexp2, empty) and isinstance(regexp1, empty): return empty()"
   ]
  },
  {
   "cell_type": "markdown",
   "metadata": {},
   "source": [
    "## Тесты"
   ]
  },
  {
   "cell_type": "code",
   "execution_count": 16,
   "metadata": {},
   "outputs": [
    {
     "name": "stdout",
     "output_type": "stream",
     "text": [
      "Регулярное выражение: \"(a*)b\"\n",
      "Match со строкой \"aaab\": True\n",
      "Match со строкой \"aba\": False\n",
      "Match со строкой \"ba\": False\n",
      "\n",
      "Регулярное выражение: \"(ab|a)\"\n",
      "Match со строкой \"a\": True\n",
      "Match со строкой \"ab\": True\n",
      "Match со строкой \"aba\": False\n",
      "\n",
      "Регулярное выражение: \"aba*\"\n",
      "Match со строкой \"abaaa\": True\n",
      "Match со строкой \"ab\": True\n",
      "Match со строкой \"aabba\": False\n",
      "\n",
      "Регулярное выражение: \"aba(b|aa)\"\n",
      "Match со строкой \"abab\": True\n",
      "Match со строкой \"abaaa\": True\n",
      "Match со строкой \"aba\": False\n",
      "\n",
      "Регулярное выражение: \"((a|b)(aa|bb))\"\n",
      "Match со строкой \"abb\": True\n",
      "Match со строкой \"baa\": True\n",
      "Match со строкой \"ab\": False\n",
      "Match со строкой \"bb\": False\n",
      "\n"
     ]
    }
   ],
   "source": [
    "# (a*)b\n",
    "regexp_1 = concat(star(char('a')), char('b'))\n",
    "\n",
    "# (ab|a)\n",
    "regexp_2 = alt(concat(char('a'), char('b')), char('a'))\n",
    "\n",
    "# aba*\n",
    "regexp_3 = concat(char('a'), concat(char('b'), star(char('a'))))\n",
    "\n",
    "# aba(b|aa)\n",
    "regexp_4 = concat(char('a'), concat(char('b'), concat(char('a'), alt(char('b'), concat(char('a'), char('a'))))))\n",
    "\n",
    "# ((a|b)(aa|bb))\n",
    "regexp_5 = concat(alt(char('a'), char('b')), alt(concat(char('a'), char('a')), concat(char('b'), char('b'))))\n",
    "\n",
    "\n",
    "print('Регулярное выражение: \"(a*)b\"')\n",
    "print('Match со строкой \"aaab\":', match(regexp_1, \"aaab\"))\n",
    "print('Match со строкой \"aba\":', match(regexp_1, \"aba\"))\n",
    "print('Match со строкой \"ba\":', match(regexp_1, \"aba\"))\n",
    "print()\n",
    "\n",
    "print('Регулярное выражение: \"(ab|a)\"')\n",
    "print('Match со строкой \"a\":', match(regexp_2, \"a\"))\n",
    "print('Match со строкой \"ab\":', match(regexp_2, \"ab\"))\n",
    "print('Match со строкой \"aba\":', match(regexp_2, \"aba\"))\n",
    "print()\n",
    "\n",
    "print('Регулярное выражение: \"aba*\"')\n",
    "print('Match со строкой \"abaaa\":', match(regexp_3, \"abaaa\"))\n",
    "print('Match со строкой \"ab\":', match(regexp_3, \"ab\"))\n",
    "print('Match со строкой \"aabba\":', match(regexp_3, \"aabba\"))\n",
    "print()\n",
    "\n",
    "print('Регулярное выражение: \"aba(b|aa)\"')\n",
    "print('Match со строкой \"abab\":', match(regexp_4, \"abab\"))\n",
    "print('Match со строкой \"abaaa\":', match(regexp_4, \"abaaa\"))\n",
    "print('Match со строкой \"aba\":', match(regexp_4, \"aba\"))\n",
    "print()\n",
    "\n",
    "print('Регулярное выражение: \"((a|b)(aa|bb))\"')\n",
    "print('Match со строкой \"abb\":', match(regexp_5, \"abb\"))\n",
    "print('Match со строкой \"baa\":', match(regexp_5, \"baa\"))\n",
    "print('Match со строкой \"ab\":', match(regexp_5, \"ab\"))\n",
    "print('Match со строкой \"bb\":', match(regexp_5, \"bb\"))\n",
    "print()\n",
    "\n"
   ]
  },
  {
   "cell_type": "code",
   "execution_count": 17,
   "metadata": {},
   "outputs": [
    {
     "name": "stdout",
     "output_type": "stream",
     "text": [
      "Длина выражения: 2, время: 0.0000 секунд\n",
      "Длина выражения: 102, время: 0.0010 секунд\n",
      "Длина выражения: 202, время: 0.0019 секунд\n",
      "Длина выражения: 302, время: 0.0031 секунд\n",
      "Длина выражения: 402, время: 0.0036 секунд\n",
      "Длина выражения: 502, время: 0.0051 секунд\n"
     ]
    }
   ],
   "source": [
    "import time\n",
    "\n",
    "time_2 = []\n",
    "for i in range(1, 300, 50):\n",
    "    exp = 'a'*i + 'b'*i\n",
    "    s = time.time()\n",
    "    match(regexp_5, exp)\n",
    "    t = time.time()\n",
    "    time_2.append(t-s)\n",
    "    print('Длина выражения: {0}, время: {1:.4f} секунд'.format(i*2, (t-s)))"
   ]
  },
  {
   "cell_type": "markdown",
   "metadata": {},
   "source": [
    "## Выводы"
   ]
  },
  {
   "cell_type": "markdown",
   "metadata": {},
   "source": [
    "Время значительно улучшилось: неоптимизированная версия для выражения длины 4 работает примерно за столько же, сколько оптимизированная для длины 102.\n",
    "\n",
    "Можем построить график, чтобы сравнить обе версии:"
   ]
  },
  {
   "cell_type": "code",
   "execution_count": 18,
   "metadata": {},
   "outputs": [
    {
     "data": {
      "image/png": "[encoded data removed]",
      "text/plain": [
       "<Figure size 432x288 with 1 Axes>"
      ]
     },
     "metadata": {
      "needs_background": "light"
     },
     "output_type": "display_data"
    }
   ],
   "source": [
    "import matplotlib.pyplot as plt\n",
    "\n",
    "plt.plot([1, 2, 3, 4, 5, 6], time_1)\n",
    "plt.plot([1, 2, 3, 4, 5, 6], time_2)\n",
    "plt.show()"
   ]
  },
  {
   "cell_type": "markdown",
   "metadata": {},
   "source": [
    "Как видно из графика, неоптимизированная версия растет экспонициально, в то время как вторая линейно"
   ]
  },
  {
   "cell_type": "code",
   "execution_count": null,
   "metadata": {},
   "outputs": [],
   "source": []
  }
 ],
 "metadata": {
  "kernelspec": {
   "display_name": "Python 3",
   "language": "python",
   "name": "python3"
  },
  "language_info": {
   "codemirror_mode": {
    "name": "ipython",
    "version": 3
   },
   "file_extension": ".py",
   "mimetype": "text/x-python",
   "name": "python",
   "nbconvert_exporter": "python",
   "pygments_lexer": "ipython3",
   "version": "3.7.6"
  }
 },
 "nbformat": 4,
 "nbformat_minor": 4
}
